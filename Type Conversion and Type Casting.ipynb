{
 "cells": [
  {
   "cell_type": "code",
   "execution_count": 1,
   "id": "1b223fa4-e428-4bce-b806-9c901c29be8f",
   "metadata": {},
   "outputs": [
    {
     "name": "stdout",
     "output_type": "stream",
     "text": [
      "Hello World\n"
     ]
    }
   ],
   "source": [
    "print(\"Hello World\")"
   ]
  },
  {
   "cell_type": "code",
   "execution_count": 5,
   "id": "c9ec78f9-bc4c-481e-bbf3-aa26e216753e",
   "metadata": {},
   "outputs": [
    {
     "name": "stdout",
     "output_type": "stream",
     "text": [
      "Hello World ;Hello World ;Hello World ;Hello World ;Hello World ;\n"
     ]
    }
   ],
   "source": [
    "print(\"Hello World \" \";\"*5)"
   ]
  },
  {
   "cell_type": "code",
   "execution_count": 8,
   "id": "bc6b40b5-75af-4174-9ecc-0f87ee9a9014",
   "metadata": {},
   "outputs": [
    {
     "name": "stdout",
     "output_type": "stream",
     "text": [
      "10200\n",
      "<class 'str'>\n",
      "<class 'str'>\n"
     ]
    }
   ],
   "source": [
    "a = \"10\"\n",
    "b = \"200\"\n",
    "\n",
    "print(a + b)\n",
    "print(type(a))\n",
    "print(type(b))"
   ]
  },
  {
   "cell_type": "markdown",
   "id": "6a56326e-3193-4dfc-8be9-a9fd1dd04b0d",
   "metadata": {},
   "source": [
    "## Type Conversion"
   ]
  },
  {
   "cell_type": "code",
   "execution_count": 12,
   "id": "d8e7b785-4c82-42c5-9b61-cb6b413ca13f",
   "metadata": {},
   "outputs": [
    {
     "data": {
      "text/plain": [
       "'10200'"
      ]
     },
     "execution_count": 12,
     "metadata": {},
     "output_type": "execute_result"
    }
   ],
   "source": [
    "int(a)\n",
    "int(b)\n",
    "\n",
    "a+b"
   ]
  },
  {
   "cell_type": "code",
   "execution_count": 11,
   "id": "fd362b8e-e60b-43ee-87ee-8e88e913e96e",
   "metadata": {},
   "outputs": [
    {
     "name": "stdout",
     "output_type": "stream",
     "text": [
      "210\n"
     ]
    }
   ],
   "source": [
    "print(int(a) + int(b))"
   ]
  },
  {
   "cell_type": "code",
   "execution_count": 13,
   "id": "931909ed-aec8-44af-9e2b-dfadba1ab067",
   "metadata": {},
   "outputs": [
    {
     "data": {
      "text/plain": [
       "10.0"
      ]
     },
     "execution_count": 13,
     "metadata": {},
     "output_type": "execute_result"
    }
   ],
   "source": [
    "float(a)"
   ]
  },
  {
   "cell_type": "code",
   "execution_count": 14,
   "id": "dd35aea8-ba11-4be2-ba63-b348267e5b5e",
   "metadata": {},
   "outputs": [
    {
     "data": {
      "text/plain": [
       "200.0"
      ]
     },
     "execution_count": 14,
     "metadata": {},
     "output_type": "execute_result"
    }
   ],
   "source": [
    "float(b)"
   ]
  },
  {
   "cell_type": "code",
   "execution_count": 15,
   "id": "53d06bf1-d707-45bf-9018-c8217f191d2b",
   "metadata": {},
   "outputs": [
    {
     "name": "stdout",
     "output_type": "stream",
     "text": [
      "210.0\n"
     ]
    }
   ],
   "source": [
    "print(float(a)+float(b))"
   ]
  },
  {
   "cell_type": "code",
   "execution_count": 16,
   "id": "833c09a9-b7eb-468c-8c90-12fe1f6ce9a1",
   "metadata": {},
   "outputs": [],
   "source": [
    "# only proper integers can be converted from string to integer"
   ]
  },
  {
   "cell_type": "code",
   "execution_count": null,
   "id": "4d869812-9b45-43dd-b2af-a5ccdd6e6bf6",
   "metadata": {},
   "outputs": [],
   "source": []
  },
  {
   "cell_type": "code",
   "execution_count": 17,
   "id": "43ab3f1d-b9d2-4832-a4f0-ee526a083473",
   "metadata": {},
   "outputs": [
    {
     "name": "stdout",
     "output_type": "stream",
     "text": [
      "True\n"
     ]
    }
   ],
   "source": [
    "x = 1\n",
    "print(bool(x))"
   ]
  },
  {
   "cell_type": "code",
   "execution_count": 18,
   "id": "131d3df5-1560-4dba-ac75-ac59e901f56a",
   "metadata": {
    "scrolled": true
   },
   "outputs": [
    {
     "name": "stdout",
     "output_type": "stream",
     "text": [
      "False\n"
     ]
    }
   ],
   "source": [
    "y = 0\n",
    "\n",
    "print(bool(y))"
   ]
  },
  {
   "cell_type": "code",
   "execution_count": 19,
   "id": "3f19be06-2dff-4ba6-a85d-f2f58305c69e",
   "metadata": {},
   "outputs": [
    {
     "name": "stdout",
     "output_type": "stream",
     "text": [
      "True\n"
     ]
    }
   ],
   "source": [
    "strings = \"this is a string\"\n",
    "\n",
    "print(bool(strings))"
   ]
  },
  {
   "cell_type": "code",
   "execution_count": 20,
   "id": "cd2a46d6-da8b-42ee-9104-c66031dca9f1",
   "metadata": {},
   "outputs": [
    {
     "name": "stdout",
     "output_type": "stream",
     "text": [
      "False\n"
     ]
    }
   ],
   "source": [
    "empty = \"\"\n",
    "\n",
    "print(bool(empty))"
   ]
  },
  {
   "cell_type": "code",
   "execution_count": 22,
   "id": "29890cce-35c9-49a0-98be-d453dad29e02",
   "metadata": {},
   "outputs": [
    {
     "name": "stdin",
     "output_type": "stream",
     "text": [
      "enter number 1 100\n",
      "enter number 2 200\n"
     ]
    },
    {
     "name": "stdout",
     "output_type": "stream",
     "text": [
      "100200\n"
     ]
    }
   ],
   "source": [
    "num = input(\"enter number 1\")\n",
    "num2 = input('enter number 2')\n",
    "\n",
    "print(num + num2)"
   ]
  },
  {
   "cell_type": "code",
   "execution_count": 23,
   "id": "50bf7299-ab0b-4b01-ab4e-54dba436d2ce",
   "metadata": {},
   "outputs": [
    {
     "name": "stdin",
     "output_type": "stream",
     "text": [
      "enter number 1 100\n",
      "enter number 2 200\n"
     ]
    },
    {
     "name": "stdout",
     "output_type": "stream",
     "text": [
      "300\n"
     ]
    }
   ],
   "source": [
    "num = input(\"enter number 1\")\n",
    "num2 = input('enter number 2')\n",
    "\n",
    "print(int(num) + int(num2))"
   ]
  },
  {
   "cell_type": "code",
   "execution_count": 24,
   "id": "011dd3ed-8632-443f-8ea6-a0808def7949",
   "metadata": {},
   "outputs": [
    {
     "name": "stdin",
     "output_type": "stream",
     "text": [
      "enter number 1 300\n",
      "enter number 2 400\n"
     ]
    },
    {
     "name": "stdout",
     "output_type": "stream",
     "text": [
      "700\n"
     ]
    }
   ],
   "source": [
    "num = int(input(\"enter number 1\"))\n",
    "num2 = int(input('enter number 2'))\n",
    "\n",
    "print(int(num) + int(num2))"
   ]
  },
  {
   "cell_type": "code",
   "execution_count": null,
   "id": "a0b8b55c-725c-4a93-aa53-fe29ab861ece",
   "metadata": {},
   "outputs": [],
   "source": []
  },
  {
   "cell_type": "markdown",
   "id": "a0be9788-ab0c-4586-9763-bcbcbd43c320",
   "metadata": {},
   "source": [
    "## Implicit conversion"
   ]
  },
  {
   "cell_type": "code",
   "execution_count": 25,
   "id": "fd82902a-9264-4a06-9af5-f0fd88d5b53e",
   "metadata": {},
   "outputs": [
    {
     "data": {
      "text/plain": [
       "800.0"
      ]
     },
     "execution_count": 25,
     "metadata": {},
     "output_type": "execute_result"
    }
   ],
   "source": [
    "a = 500\n",
    "b = 300.0\n",
    "\n",
    "a+b"
   ]
  },
  {
   "cell_type": "code",
   "execution_count": null,
   "id": "301fb10c-c2f9-4841-86a9-322d66cee410",
   "metadata": {},
   "outputs": [],
   "source": []
  }
 ],
 "metadata": {
  "kernelspec": {
   "display_name": "Python 3 (ipykernel)",
   "language": "python",
   "name": "python3"
  },
  "language_info": {
   "codemirror_mode": {
    "name": "ipython",
    "version": 3
   },
   "file_extension": ".py",
   "mimetype": "text/x-python",
   "name": "python",
   "nbconvert_exporter": "python",
   "pygments_lexer": "ipython3",
   "version": "3.12.7"
  }
 },
 "nbformat": 4,
 "nbformat_minor": 5
}
