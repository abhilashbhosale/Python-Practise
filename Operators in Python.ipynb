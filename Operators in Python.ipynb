{
 "cells": [
  {
   "cell_type": "markdown",
   "id": "e961b9f9-72f4-4c95-b192-a9bf02014304",
   "metadata": {},
   "source": [
    "## Operators In Python"
   ]
  },
  {
   "cell_type": "markdown",
   "id": "ffb9fe5c-8904-45af-b4de-66e89e3acf6a",
   "metadata": {},
   "source": [
    "## arithmatic operators"
   ]
  },
  {
   "cell_type": "raw",
   "id": "d1f098cc-243a-4540-9457-e94dd46d65ed",
   "metadata": {},
   "source": [
    "+,-,*,/,%,**,//"
   ]
  },
  {
   "cell_type": "code",
   "execution_count": 13,
   "id": "21a2e4e7-db24-4a80-816d-a563acda9f94",
   "metadata": {},
   "outputs": [
    {
     "name": "stdout",
     "output_type": "stream",
     "text": [
      "45\n",
      "15\n",
      "450\n",
      "2.0\n",
      "14348907000000000000000\n",
      "2\n"
     ]
    }
   ],
   "source": [
    "x = 30\n",
    "y = 15\n",
    "print(x+y)\n",
    "print(x-y)\n",
    "print(x*y)\n",
    "print(x/y)\n",
    "print(x**y)\n",
    "print(x//y)"
   ]
  },
  {
   "cell_type": "markdown",
   "id": "431a7384-6e1e-42d6-98ee-ffdf2bc4f38c",
   "metadata": {},
   "source": [
    "## Assignment operator"
   ]
  },
  {
   "cell_type": "code",
   "execution_count": 17,
   "id": "a796cfda-ddd4-41e0-9be3-579f3df0f9f9",
   "metadata": {},
   "outputs": [
    {
     "name": "stdout",
     "output_type": "stream",
     "text": [
      "12\n",
      "17\n"
     ]
    }
   ],
   "source": [
    "x = 12\n",
    "\n",
    "print(x)\n",
    "x += 5\n",
    "print(x)"
   ]
  },
  {
   "cell_type": "code",
   "execution_count": 18,
   "id": "c79f371a-fe62-4307-bef7-39b0b8395130",
   "metadata": {},
   "outputs": [
    {
     "name": "stdout",
     "output_type": "stream",
     "text": [
      "30\n"
     ]
    }
   ],
   "source": [
    "x = 20\n",
    "\n",
    "x+= 10  # x = x +10\n",
    "\n",
    "print(x)"
   ]
  },
  {
   "cell_type": "code",
   "execution_count": 19,
   "id": "9318cedb-2658-4c97-a59e-e472b4a05cbc",
   "metadata": {},
   "outputs": [
    {
     "name": "stdout",
     "output_type": "stream",
     "text": [
      "25\n"
     ]
    }
   ],
   "source": [
    "y = 30\n",
    "\n",
    "y-= 5  # y = y-5\n",
    "\n",
    "print(y)"
   ]
  },
  {
   "cell_type": "code",
   "execution_count": 20,
   "id": "943ac60d-3313-40da-b8cc-3479e3aa9414",
   "metadata": {},
   "outputs": [
    {
     "name": "stdout",
     "output_type": "stream",
     "text": [
      "15\n"
     ]
    }
   ],
   "source": [
    "z = 3\n",
    "\n",
    "z*= 5  # x = x*5\n",
    "\n",
    "print(z)"
   ]
  },
  {
   "cell_type": "code",
   "execution_count": 21,
   "id": "1288fb1a-679e-4011-84d9-e46f4cf4811a",
   "metadata": {},
   "outputs": [
    {
     "name": "stdout",
     "output_type": "stream",
     "text": [
      "5.0\n"
     ]
    }
   ],
   "source": [
    "a = 10\n",
    "\n",
    "a/= 2  # a = a / 2\n",
    "\n",
    "print(a)"
   ]
  },
  {
   "cell_type": "code",
   "execution_count": 23,
   "id": "24fd8ec7-c12f-415b-8f4f-2948edc41ddc",
   "metadata": {},
   "outputs": [
    {
     "name": "stdout",
     "output_type": "stream",
     "text": [
      "2\n"
     ]
    }
   ],
   "source": [
    "b = 20 \n",
    "\n",
    "b%= 3\n",
    "\n",
    "print(b)"
   ]
  },
  {
   "cell_type": "code",
   "execution_count": null,
   "id": "8a26f6fa-c2c6-47e1-a213-7de9ac834091",
   "metadata": {},
   "outputs": [],
   "source": []
  }
 ],
 "metadata": {
  "kernelspec": {
   "display_name": "Python 3 (ipykernel)",
   "language": "python",
   "name": "python3"
  },
  "language_info": {
   "codemirror_mode": {
    "name": "ipython",
    "version": 3
   },
   "file_extension": ".py",
   "mimetype": "text/x-python",
   "name": "python",
   "nbconvert_exporter": "python",
   "pygments_lexer": "ipython3",
   "version": "3.12.7"
  }
 },
 "nbformat": 4,
 "nbformat_minor": 5
}
